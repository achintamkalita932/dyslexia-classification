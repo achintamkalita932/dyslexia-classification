{
 "cells": [
  {
   "cell_type": "code",
   "execution_count": 1,
   "id": "eb7f8b62",
   "metadata": {},
   "outputs": [],
   "source": [
    "# Import manipulating files libraries\n",
    "import os, glob\n",
    "os.environ[\"CUDA_DEVICE_ORDER\"] = \"PCI_BUS_ID\"   #if like me you do not have a lot of memory in your GPU\n",
    "os.environ[\"CUDA_VISIBLE_DEVICES\"] = \"\" #then these two lines force keras to use your CPU\n",
    "\n",
    "# Import graph/image plotting libraries\n",
    "import matplotlib.pyplot as plt\n",
    "import seaborn as sns\n",
    "sns.set(style=\"darkgrid\")\n",
    "\n",
    "# Import loading and manipulating neuroimaging data library\n",
    "import nibabel as nib\n",
    "\n",
    "# Import array manipulating libraries\n",
    "import numpy as np\n",
    "import pandas as pd\n",
    "\n",
    "# Import deep learning model libraries\n",
    "import tensorflow as tf\n",
    "import keras\n",
    "from keras.callbacks import TensorBoard\n",
    "from keras.models import Model, Sequential\n",
    "\n",
    "from keras.layers import Input, Dense, Flatten, Dropout, Conv2D, MaxPooling2D, BatchNormalization\n",
    "\n",
    "from keras import backend as K\n",
    "from keras.callbacks import ModelCheckpoint\n",
    "from keras.models import load_model\n",
    "\n",
    "# Import date/time library to save models with date/time\n",
    "from datetime import datetime\n",
    "from tensorflow.keras.regularizers import l2"
   ]
  },
  {
   "cell_type": "code",
   "execution_count": 2,
   "id": "b7319e40",
   "metadata": {},
   "outputs": [],
   "source": [
    "# Get data path\n",
    "data_path = 'final data/*.nii.gz'\n",
    "# Find all files within the location that matches our search string\n",
    "files = glob.glob(data_path)\n",
    "\n",
    "# Get the labels for our data from our csv file\n",
    "Labels = pd.read_csv('labels.csv')\n",
    "# Define our target from the column \"Labels\" as our y in our model\n",
    "target = Labels['group']"
   ]
  },
  {
   "cell_type": "code",
   "execution_count": 3,
   "id": "6f2a5cfa",
   "metadata": {},
   "outputs": [
    {
     "name": "stdout",
     "output_type": "stream",
     "text": [
      "120\n",
      "(120, 64, 64, 34)\n"
     ]
    }
   ],
   "source": [
    "# Loop through files and load all data files\n",
    "data_all, images = [], []\n",
    "for data_file in sorted(files):\n",
    "    data = nib.load(data_file).get_fdata()\n",
    "    first_vol = data[:,:,:,0]\n",
    "    first = first_vol / 255\n",
    "    data_all.append(first)\n",
    "    \n",
    "# Convert our list into a numpy array\n",
    "images = np.asarray(data_all)\n",
    "\n",
    "print(len(data_all))\n",
    "print (np.shape(images))"
   ]
  },
  {
   "cell_type": "code",
   "execution_count": 21,
   "id": "f1296eb1",
   "metadata": {},
   "outputs": [
    {
     "data": {
      "text/plain": [
       "array([[[0.        , 0.        , 0.        , ..., 0.        ,\n",
       "         0.        , 0.        ],\n",
       "        [0.        , 0.        , 0.        , ..., 0.        ,\n",
       "         0.        , 0.        ],\n",
       "        [0.        , 0.        , 0.        , ..., 0.        ,\n",
       "         0.        , 0.        ],\n",
       "        ...,\n",
       "        [0.        , 0.        , 0.        , ..., 0.        ,\n",
       "         0.        , 0.        ],\n",
       "        [0.        , 0.        , 0.        , ..., 0.        ,\n",
       "         0.        , 0.        ],\n",
       "        [0.        , 0.        , 0.        , ..., 0.        ,\n",
       "         0.        , 0.        ]],\n",
       "\n",
       "       [[0.04705882, 0.04313725, 0.04313725, ..., 0.04313725,\n",
       "         0.04705882, 0.04313725],\n",
       "        [0.04705882, 0.04313725, 0.05098039, ..., 0.04313725,\n",
       "         0.04705882, 0.04313725],\n",
       "        [0.04313725, 0.05098039, 0.03921569, ..., 0.04705882,\n",
       "         0.04313725, 0.04313725],\n",
       "        ...,\n",
       "        [0.04705882, 0.05882353, 0.0627451 , ..., 0.05882353,\n",
       "         0.0745098 , 0.05882353],\n",
       "        [0.05098039, 0.05098039, 0.06666667, ..., 0.05490196,\n",
       "         0.0627451 , 0.05098039],\n",
       "        [0.04705882, 0.05490196, 0.04313725, ..., 0.0627451 ,\n",
       "         0.05490196, 0.05490196]],\n",
       "\n",
       "       [[0.04705882, 0.04313725, 0.03921569, ..., 0.04313725,\n",
       "         0.04313725, 0.04705882],\n",
       "        [0.05882353, 0.04313725, 0.05098039, ..., 0.04313725,\n",
       "         0.04313725, 0.04705882],\n",
       "        [0.04705882, 0.04313725, 0.03921569, ..., 0.03921569,\n",
       "         0.03921569, 0.05098039],\n",
       "        ...,\n",
       "        [0.0745098 , 0.06666667, 0.06666667, ..., 0.05098039,\n",
       "         0.05490196, 0.05098039],\n",
       "        [0.05882353, 0.04705882, 0.0627451 , ..., 0.0627451 ,\n",
       "         0.06666667, 0.0745098 ],\n",
       "        [0.05490196, 0.06666667, 0.05882353, ..., 0.06666667,\n",
       "         0.0627451 , 0.05490196]],\n",
       "\n",
       "       ...,\n",
       "\n",
       "       [[0.04705882, 0.04705882, 0.05098039, ..., 0.04705882,\n",
       "         0.04313725, 0.04313725],\n",
       "        [0.03921569, 0.05098039, 0.06666667, ..., 0.04705882,\n",
       "         0.04313725, 0.04313725],\n",
       "        [0.04313725, 0.04705882, 0.05098039, ..., 0.03921569,\n",
       "         0.04705882, 0.03921569],\n",
       "        ...,\n",
       "        [0.0627451 , 0.07058824, 0.0745098 , ..., 0.05490196,\n",
       "         0.0745098 , 0.09019608],\n",
       "        [0.07058824, 0.0745098 , 0.07058824, ..., 0.05098039,\n",
       "         0.07058824, 0.05882353],\n",
       "        [0.0745098 , 0.0745098 , 0.09019608, ..., 0.05882353,\n",
       "         0.05882353, 0.05098039]],\n",
       "\n",
       "       [[0.05098039, 0.03921569, 0.03921569, ..., 0.04705882,\n",
       "         0.04705882, 0.03921569],\n",
       "        [0.05098039, 0.04313725, 0.03921569, ..., 0.04705882,\n",
       "         0.04705882, 0.03921569],\n",
       "        [0.03921569, 0.04705882, 0.04705882, ..., 0.04705882,\n",
       "         0.03921569, 0.03529412],\n",
       "        ...,\n",
       "        [0.05098039, 0.07058824, 0.07058824, ..., 0.0745098 ,\n",
       "         0.07843137, 0.0745098 ],\n",
       "        [0.07058824, 0.0745098 , 0.0745098 , ..., 0.05490196,\n",
       "         0.06666667, 0.06666667],\n",
       "        [0.07843137, 0.05490196, 0.06666667, ..., 0.0627451 ,\n",
       "         0.0627451 , 0.0627451 ]],\n",
       "\n",
       "       [[0.04313725, 0.04313725, 0.03921569, ..., 0.03921569,\n",
       "         0.04313725, 0.04313725],\n",
       "        [0.03529412, 0.04705882, 0.03921569, ..., 0.03921569,\n",
       "         0.04313725, 0.04313725],\n",
       "        [0.04705882, 0.03529412, 0.03921569, ..., 0.04313725,\n",
       "         0.04313725, 0.04705882],\n",
       "        ...,\n",
       "        [0.06666667, 0.09411765, 0.05882353, ..., 0.05882353,\n",
       "         0.0627451 , 0.05882353],\n",
       "        [0.06666667, 0.0745098 , 0.07058824, ..., 0.05098039,\n",
       "         0.0627451 , 0.07843137],\n",
       "        [0.05882353, 0.0627451 , 0.07058824, ..., 0.06666667,\n",
       "         0.06666667, 0.0627451 ]]])"
      ]
     },
     "execution_count": 21,
     "metadata": {},
     "output_type": "execute_result"
    }
   ],
   "source": [
    "images[119]"
   ]
  },
  {
   "cell_type": "code",
   "execution_count": 13,
   "id": "1dbdbc7a",
   "metadata": {},
   "outputs": [
    {
     "name": "stdout",
     "output_type": "stream",
     "text": [
      "(64, 64)\n"
     ]
    },
    {
     "data": {
      "image/png": "[encoded data removed]",
      "text/plain": [
       "<Figure size 640x480 with 1 Axes>"
      ]
     },
     "metadata": {},
     "output_type": "display_data"
    }
   ],
   "source": [
    "# Generate a random 2D numpy array\n",
    "img = images[0,:,:,11]\n",
    "print(img.shape)\n",
    "\n",
    "# Plot the image using matplotlib\n",
    "plt.imshow(img, cmap='gray')\n",
    "\n",
    "# Show the plot\n",
    "plt.show()\n"
   ]
  },
  {
   "cell_type": "code",
   "execution_count": 5,
   "id": "9aa7f0d7",
   "metadata": {},
   "outputs": [
    {
     "name": "stdout",
     "output_type": "stream",
     "text": [
      "(64, 34)\n"
     ]
    },
    {
     "data": {
      "image/png": "[encoded data removed]",
      "text/plain": [
       "<Figure size 640x480 with 1 Axes>"
      ]
     },
     "metadata": {},
     "output_type": "display_data"
    }
   ],
   "source": [
    "# Generate a random 2D numpy array\n",
    "img = images[0,34,:,:]\n",
    "print(img.shape)\n",
    "\n",
    "# Plot the image using matplotlib\n",
    "plt.imshow(img, cmap='gray')\n",
    "\n",
    "# Show the plot\n",
    "plt.show()"
   ]
  },
  {
   "cell_type": "code",
   "execution_count": 14,
   "id": "23384d1d",
   "metadata": {},
   "outputs": [
    {
     "name": "stdout",
     "output_type": "stream",
     "text": [
      "(64, 34)\n"
     ]
    },
    {
     "data": {
      "image/png": "[encoded data removed]",
      "text/plain": [
       "<Figure size 640x480 with 1 Axes>"
      ]
     },
     "metadata": {},
     "output_type": "display_data"
    }
   ],
   "source": [
    "# Generate a random 2D numpy array\n",
    "img = images[0,:,40,:]\n",
    "print(img.shape)\n",
    "\n",
    "# Plot the image using matplotlib\n",
    "plt.imshow(img, cmap='gray')\n",
    "\n",
    "# Show the plot\n",
    "plt.show()"
   ]
  },
  {
   "cell_type": "code",
   "execution_count": 8,
   "id": "cc27a1de",
   "metadata": {},
   "outputs": [],
   "source": [
    "# for j in range(5,35):\n",
    "#     print(j)"
   ]
  },
  {
   "cell_type": "code",
   "execution_count": 17,
   "id": "fa2524fa",
   "metadata": {},
   "outputs": [
    {
     "name": "stdout",
     "output_type": "stream",
     "text": [
      "(1770, 64, 64)\n"
     ]
    }
   ],
   "source": [
    "final_data = []\n",
    "for i in range(0,59) :\n",
    "    for j in range(0,30):\n",
    "        final_data.append(images[i,:,:,j])\n",
    "#         print(np.shape(arr))\n",
    "        \n",
    "# np.save('my_array.npy', arr)\n",
    "print(np.shape(final_data))"
   ]
  },
  {
   "cell_type": "code",
   "execution_count": 26,
   "id": "3d4a59f7",
   "metadata": {},
   "outputs": [
    {
     "name": "stdout",
     "output_type": "stream",
     "text": [
      "(64, 64)\n"
     ]
    },
    {
     "data": {
      "image/png": "[encoded data removed]",
      "text/plain": [
       "<Figure size 640x480 with 1 Axes>"
      ]
     },
     "metadata": {},
     "output_type": "display_data"
    }
   ],
   "source": [
    "# Generate a random 2D numpy array\n",
    "img = final_data[336]\n",
    "print(img.shape)\n",
    "\n",
    "# Plot the image using matplotlib\n",
    "plt.imshow(img, cmap='gray')\n",
    "\n",
    "# Show the plot\n",
    "plt.show()\n"
   ]
  },
  {
   "cell_type": "code",
   "execution_count": 11,
   "id": "e77c7801",
   "metadata": {},
   "outputs": [],
   "source": [
    "# # Create an example array of size (64, 34)\n",
    "# a = np.random.rand(64, 34)\n",
    "\n",
    "# # Pad the array with zeros to increase the size to (64, 64)\n",
    "# b = np.pad(a, ((0, 0), (0, 30)), mode='constant')\n",
    "\n",
    "# print('Original array shape:', a.shape)\n",
    "# print('Padded array shape:', b.shape)\n"
   ]
  },
  {
   "cell_type": "code",
   "execution_count": 12,
   "id": "d6ba2280",
   "metadata": {},
   "outputs": [
    {
     "name": "stdout",
     "output_type": "stream",
     "text": [
      "(1770, 64, 64)\n"
     ]
    }
   ],
   "source": [
    "arr2, f_data = [], []\n",
    "\n",
    "for i in range(0,59) :\n",
    "    for j in range(15,45):\n",
    "        arr2 = images[i,:,j,:]\n",
    "#         print(np.shape(arr2))\n",
    "        # Pad the array with zeros to increase the size to (64, 64)\n",
    "        transformed_data = np.pad(arr2, ((0, 0), (0, 30)), mode='constant')\n",
    "#         print(np.shape(transformed_data))\n",
    "        f_data.append(transformed_data)\n",
    "        \n",
    "# np.save('my_array2.npy', arr2)\n",
    "print(np.shape(f_data))"
   ]
  },
  {
   "cell_type": "code",
   "execution_count": 13,
   "id": "c3b89f76",
   "metadata": {},
   "outputs": [
    {
     "name": "stdout",
     "output_type": "stream",
     "text": [
      "(64, 64)\n"
     ]
    },
    {
     "data": {
      "image/png": "[encoded data removed]",
      "text/plain": [
       "<Figure size 640x480 with 1 Axes>"
      ]
     },
     "metadata": {},
     "output_type": "display_data"
    }
   ],
   "source": [
    "# Generate a random 2D numpy array\n",
    "img = f_data[16]\n",
    "print(img.shape)\n",
    "\n",
    "# Plot the image using matplotlib\n",
    "plt.imshow(img, cmap='gray')\n",
    "\n",
    "# Show the plot\n",
    "plt.show()\n"
   ]
  },
  {
   "cell_type": "code",
   "execution_count": 14,
   "id": "13090ec4",
   "metadata": {},
   "outputs": [
    {
     "data": {
      "text/plain": [
       "(64, 64)"
      ]
     },
     "execution_count": 14,
     "metadata": {},
     "output_type": "execute_result"
    }
   ],
   "source": [
    "f_data[0].shape\n"
   ]
  },
  {
   "cell_type": "code",
   "execution_count": 15,
   "id": "3e5bbbe2",
   "metadata": {},
   "outputs": [
    {
     "name": "stdout",
     "output_type": "stream",
     "text": [
      "(1770, 64, 64)\n"
     ]
    }
   ],
   "source": [
    "arr3 , f_data2 = [], []\n",
    "for i in range(0,59) :\n",
    "    for j in range(15,45):\n",
    "        arr3 = images[i,j,:,:]\n",
    "#         print(np.shape(arr3))\n",
    "        # Pad the array with zeros to increase the size to (64, 64)\n",
    "        transformed_data = np.pad(arr3, ((0, 0), (0, 30)), mode='constant')\n",
    "#         print(np.shape(transformed_data))\n",
    "        f_data2.append(transformed_data)\n",
    "        \n",
    "# np.save('my_array3.npy', arr3)\n",
    "print(np.shape(f_data2))"
   ]
  },
  {
   "cell_type": "code",
   "execution_count": 16,
   "id": "8d4f5173",
   "metadata": {},
   "outputs": [
    {
     "name": "stdout",
     "output_type": "stream",
     "text": [
      "(64, 64)\n"
     ]
    },
    {
     "data": {
      "image/png": "[encoded data removed]",
      "text/plain": [
       "<Figure size 640x480 with 1 Axes>"
      ]
     },
     "metadata": {},
     "output_type": "display_data"
    }
   ],
   "source": [
    "# Generate a random 2D numpy array\n",
    "img = f_data2[1199]\n",
    "print(img.shape)\n",
    "\n",
    "# Plot the image using matplotlib\n",
    "plt.imshow(img, cmap='gray')\n",
    "\n",
    "# Show the plot\n",
    "plt.show()\n"
   ]
  },
  {
   "cell_type": "code",
   "execution_count": 17,
   "id": "d2372cc8",
   "metadata": {},
   "outputs": [
    {
     "name": "stdout",
     "output_type": "stream",
     "text": [
      "(5310, 64, 64)\n"
     ]
    }
   ],
   "source": [
    "data_dyslexic = []\n",
    "data_dyslexic = final_data + f_data + f_data2\n",
    "print(np.shape(data_dyslexic))"
   ]
  },
  {
   "cell_type": "code",
   "execution_count": 18,
   "id": "510765bf",
   "metadata": {},
   "outputs": [],
   "source": [
    "np.save('dyslexic_data.npy', data_dyslexic)"
   ]
  },
  {
   "cell_type": "code",
   "execution_count": 22,
   "id": "09c4526f",
   "metadata": {},
   "outputs": [],
   "source": [
    "# create numpy data with 5310 samples\n",
    "data = np.zeros((10620,))\n",
    "\n",
    "# create a DataFrame with the labeled data\n",
    "df = pd.DataFrame({'Label': data})\n",
    "\n",
    "# save the DataFrame as a CSV file\n",
    "df.to_csv('labeled_data.csv', index=False)"
   ]
  },
  {
   "cell_type": "code",
   "execution_count": 32,
   "id": "0bc04f37",
   "metadata": {},
   "outputs": [
    {
     "name": "stdout",
     "output_type": "stream",
     "text": [
      "(64, 64)\n"
     ]
    },
    {
     "data": {
      "image/png": "[encoded data removed]",
      "text/plain": [
       "<Figure size 640x480 with 1 Axes>"
      ]
     },
     "metadata": {},
     "output_type": "display_data"
    }
   ],
   "source": [
    "# Generate a random 2D numpy array\n",
    "img = data_dyslexic[5200]\n",
    "print(img.shape)\n",
    "\n",
    "# Plot the image using matplotlib\n",
    "plt.imshow(img, cmap='gray')\n",
    "\n",
    "# Show the plot\n",
    "plt.show()"
   ]
  },
  {
   "cell_type": "code",
   "execution_count": 6,
   "id": "cf100323",
   "metadata": {},
   "outputs": [
    {
     "name": "stdout",
     "output_type": "stream",
     "text": [
      "(5310, 64, 64)\n"
     ]
    }
   ],
   "source": [
    "# Load the data from the .npy file\n",
    "data_con = np.load('non_dyslexic_data.npy')\n",
    "\n",
    "# Print the loaded data\n",
    "print(data_con.shape)\n"
   ]
  },
  {
   "cell_type": "code",
   "execution_count": 7,
   "id": "b21c42f9",
   "metadata": {},
   "outputs": [
    {
     "name": "stdout",
     "output_type": "stream",
     "text": [
      "(5310, 64, 64)\n"
     ]
    }
   ],
   "source": [
    "# Load the data from the .npy file\n",
    "data_dys = np.load('dyslexic_data.npy')\n",
    "\n",
    "# Print the loaded data\n",
    "print(data_dys.shape)\n"
   ]
  },
  {
   "cell_type": "code",
   "execution_count": 8,
   "id": "e8ef225c",
   "metadata": {},
   "outputs": [
    {
     "name": "stdout",
     "output_type": "stream",
     "text": [
      "(10620, 64, 64)\n"
     ]
    }
   ],
   "source": [
    "concatenated_array = np.concatenate((data_dys, data_con))\n",
    "\n",
    "# print the concatenated array\n",
    "print(concatenated_array.shape)"
   ]
  },
  {
   "cell_type": "code",
   "execution_count": 9,
   "id": "fad6d738",
   "metadata": {},
   "outputs": [],
   "source": [
    "# Get the labels for our data from our csv file\n",
    "Labels = pd.read_csv('labeled_data.csv')\n",
    "# Define our target from the column \"Labels\" as our y in our model\n",
    "target = Labels['Label']"
   ]
  },
  {
   "cell_type": "code",
   "execution_count": 10,
   "id": "9bd0eaac",
   "metadata": {},
   "outputs": [
    {
     "name": "stdout",
     "output_type": "stream",
     "text": [
      "(10620, 64, 64, 3)\n"
     ]
    }
   ],
   "source": [
    "# Add a fourth dimension with a value of 3\n",
    "concatenated_array = np.expand_dims(concatenated_array, axis=-1)\n",
    "full_data = np.repeat(concatenated_array, 3, axis=-1)\n",
    "\n",
    "# The resulting shape of arr will be (120, 4096, 4096, 3)\n",
    "print(full_data.shape)"
   ]
  },
  {
   "cell_type": "code",
   "execution_count": 11,
   "id": "a525aea9",
   "metadata": {},
   "outputs": [
    {
     "data": {
      "text/plain": [
       "<bound method NDFrame.head of 0        0\n",
       "1        0\n",
       "2        0\n",
       "3        0\n",
       "4        0\n",
       "        ..\n",
       "10615    1\n",
       "10616    1\n",
       "10617    1\n",
       "10618    1\n",
       "10619    1\n",
       "Name: Label, Length: 10620, dtype: int64>"
      ]
     },
     "execution_count": 11,
     "metadata": {},
     "output_type": "execute_result"
    }
   ],
   "source": [
    "target.head"
   ]
  },
  {
   "cell_type": "code",
   "execution_count": 12,
   "id": "9c481fd4",
   "metadata": {},
   "outputs": [
    {
     "name": "stdout",
     "output_type": "stream",
     "text": [
      "(7432, 64, 64, 3)\n",
      "(1594, 64, 64, 3)\n",
      "(1594, 64, 64, 3)\n"
     ]
    }
   ],
   "source": [
    "# Create list of indices\n",
    "N = full_data.shape[0]\n",
    "indexes = np.arange(N)\n",
    "\n",
    "# Divide our dataset into dyslexics and controls to have a balanced train, validation and test sets\n",
    "dis = indexes[:5310]\n",
    "con = indexes[5310:]\n",
    "\n",
    "#  Cut the dataset at 80% to create the training, 10% validation and 10% test set\n",
    "size = dis.shape[0]\n",
    "split_1 = int(0.7 * size)\n",
    "split_2 = int(0.85 * size)\n",
    "\n",
    "# Shuffle our dyslexics and controls arrays to create random indexes\n",
    "np.random.shuffle(np.asarray(dis))\n",
    "np.random.shuffle(np.asarray(con))\n",
    "\n",
    "# Create our indexes for our train, validation and test sets according to our previous division (80%, 10%, 10%)\n",
    "indexes_train_dis, indexes_train_con = dis[:split_1], con[:split_1]\n",
    "indexes_val_dis, indexes_val_con   = dis[split_1:split_2], con[split_1:split_2]\n",
    "indexes_test_dis, indexes_test_con = dis[split_2:], con[split_2:]\n",
    "\n",
    "# We concatenate our training, validation and test indexes for dyslexics and controls\n",
    "# By doing that we ensure that each set is balanced with the same number of dyslexics and controls\n",
    "indexes_train = np.concatenate((indexes_train_dis, indexes_train_con), axis=None)\n",
    "indexes_val = np.concatenate((indexes_val_dis, indexes_val_con), axis=None)\n",
    "indexes_test = np.concatenate((indexes_test_dis, indexes_test_con), axis=None)\n",
    "\n",
    "\n",
    "# Split the data into training, validation and test sets according to the indexes created previously\n",
    "X_train = full_data[indexes_train, ...]\n",
    "X_val = full_data[indexes_val, ...]\n",
    "X_test = full_data[indexes_test, ...]\n",
    "\n",
    "print(X_train.shape)\n",
    "print(X_val.shape)\n",
    "print(X_test.shape)"
   ]
  },
  {
   "cell_type": "code",
   "execution_count": 13,
   "id": "73ebb0af",
   "metadata": {},
   "outputs": [
    {
     "name": "stdout",
     "output_type": "stream",
     "text": [
      "742     0\n",
      "3874    0\n",
      "1113    0\n",
      "2502    0\n",
      "5252    0\n",
      "       ..\n",
      "9955    1\n",
      "7233    1\n",
      "7092    1\n",
      "8811    1\n",
      "7340    1\n",
      "Name: Label, Length: 7432, dtype: int64\n"
     ]
    }
   ],
   "source": [
    "# Create outcome variable for each set (training, validation and test)\n",
    "y_train = target[indexes_train] \n",
    "y_val   = target[indexes_val]\n",
    "y_test  = target[indexes_test]\n",
    "print(y_train)"
   ]
  },
  {
   "cell_type": "code",
   "execution_count": 14,
   "id": "8f7a8efe",
   "metadata": {},
   "outputs": [],
   "source": [
    "# Our vectorized labels\n",
    "y_train = np.asarray(y_train).astype('int32')\n",
    "y_test = np.asarray(y_test).astype('int32')\n",
    "y_val = np.asarray(y_val).astype('int32')"
   ]
  },
  {
   "cell_type": "code",
   "execution_count": 15,
   "id": "e113cc0e",
   "metadata": {},
   "outputs": [
    {
     "name": "stdout",
     "output_type": "stream",
     "text": [
      "tf.Tensor(\n",
      "[[1. 0.]\n",
      " [1. 0.]\n",
      " [1. 0.]\n",
      " ...\n",
      " [0. 1.]\n",
      " [0. 1.]\n",
      " [0. 1.]], shape=(1594, 2), dtype=float32)\n"
     ]
    }
   ],
   "source": [
    "y_train = tf.one_hot(y_train, 2)\n",
    "y_test = tf.one_hot(y_test, 2)\n",
    "y_val = tf.one_hot(y_val, 2)\n",
    "print(y_val) "
   ]
  },
  {
   "cell_type": "code",
   "execution_count": 16,
   "id": "4c969f0d",
   "metadata": {},
   "outputs": [
    {
     "data": {
      "text/plain": [
       "(64, 64, 3)"
      ]
     },
     "execution_count": 16,
     "metadata": {},
     "output_type": "execute_result"
    }
   ],
   "source": [
    "full_data[0].shape"
   ]
  },
  {
   "cell_type": "code",
   "execution_count": 72,
   "id": "bda16340",
   "metadata": {},
   "outputs": [],
   "source": [
    "import tensorflow as tf\n",
    "from tensorflow import keras\n",
    "from tensorflow.keras import layers\n",
    "from vit_keras import vit"
   ]
  },
  {
   "cell_type": "code",
   "execution_count": 73,
   "id": "4d401830",
   "metadata": {},
   "outputs": [],
   "source": [
    "input_shape = (64, 64, 3)\n",
    "num_classes = 2"
   ]
  },
  {
   "cell_type": "code",
   "execution_count": 35,
   "id": "eaf84122",
   "metadata": {},
   "outputs": [],
   "source": [
    "# vit_model = vit.vit_b32(\n",
    "#     image_size=input_shape[0],\n",
    "#     activation='softmax',\n",
    "#     pretrained=True,\n",
    "#     include_top=False,\n",
    "#     pretrained_top=False,\n",
    "#     classes=num_classes\n",
    "# )"
   ]
  },
  {
   "cell_type": "code",
   "execution_count": 44,
   "id": "49db5635",
   "metadata": {},
   "outputs": [],
   "source": [
    "# inputs = layers.Input(shape=input_shape)\n",
    "# x = vit_model(inputs)\n",
    "# x = layers.Flatten()(x)\n",
    "# outputs = layers.Dense(num_classes, activation='softmax')(x)\n",
    "\n",
    "# model = keras.Model(inputs=inputs, outputs=outputs)"
   ]
  },
  {
   "cell_type": "code",
   "execution_count": 36,
   "id": "c62521de",
   "metadata": {},
   "outputs": [],
   "source": [
    "# # Freeze the layers of the pre-trained model\n",
    "# for layer in vit_model.layers:\n",
    "#     layer.trainable = False\n",
    "\n",
    "# # Add a custom head for our target task\n",
    "# inputs = keras.Input(shape=(64, 64, 3))\n",
    "# x = vit_model(inputs)\n",
    "# x = keras.layers.Flatten()(x)\n",
    "# outputs = keras.layers.Dense(num_classes, activation='softmax')(x)\n",
    "# model = keras.Model(inputs, outputs)"
   ]
  },
  {
   "cell_type": "code",
   "execution_count": 75,
   "id": "050f3281",
   "metadata": {},
   "outputs": [
    {
     "name": "stderr",
     "output_type": "stream",
     "text": [
      "C:\\Program Files\\Python310\\lib\\site-packages\\vit_keras\\utils.py:81: UserWarning: Resizing position embeddings from 12, 12 to 2, 2\n",
      "  warnings.warn(\n"
     ]
    },
    {
     "name": "stdout",
     "output_type": "stream",
     "text": [
      "Epoch 1/4\n",
      "161/161 [==============================] - 2117s 13s/step - loss: 0.7328 - accuracy: 0.5870 - val_loss: 0.9605 - val_accuracy: 0.0498\n",
      "Epoch 2/4\n",
      "161/161 [==============================] - 677s 4s/step - loss: 0.6639 - accuracy: 0.6150 - val_loss: 1.2396 - val_accuracy: 0.0138\n",
      "Epoch 3/4\n",
      "161/161 [==============================] - 709s 4s/step - loss: 0.6455 - accuracy: 0.6450 - val_loss: 0.7401 - val_accuracy: 0.5332\n",
      "Epoch 4/4\n",
      "161/161 [==============================] - 703s 4s/step - loss: 0.5849 - accuracy: 0.6938 - val_loss: 1.0660 - val_accuracy: 0.3450\n",
      "Epoch 1/4\n",
      "161/161 [==============================] - 694s 4s/step - loss: 0.5165 - accuracy: 0.7492 - val_loss: 0.6498 - val_accuracy: 0.6681\n",
      "Epoch 2/4\n",
      "161/161 [==============================] - 698s 4s/step - loss: 0.4485 - accuracy: 0.7895 - val_loss: 0.7866 - val_accuracy: 0.6404\n",
      "Epoch 3/4\n",
      "161/161 [==============================] - 666s 4s/step - loss: 0.3890 - accuracy: 0.8205 - val_loss: 0.6472 - val_accuracy: 0.6992\n",
      "Epoch 4/4\n",
      "161/161 [==============================] - 649s 4s/step - loss: 0.2924 - accuracy: 0.8752 - val_loss: 0.5870 - val_accuracy: 0.7745\n",
      "Epoch 1/4\n",
      "161/161 [==============================] - 666s 4s/step - loss: 0.2501 - accuracy: 0.8952 - val_loss: 0.1745 - val_accuracy: 0.9224\n",
      "Epoch 2/4\n",
      "161/161 [==============================] - 670s 4s/step - loss: 0.1880 - accuracy: 0.9205 - val_loss: 0.3807 - val_accuracy: 0.8404\n",
      "Epoch 3/4\n",
      "161/161 [==============================] - 648s 4s/step - loss: 0.1644 - accuracy: 0.9326 - val_loss: 0.2876 - val_accuracy: 0.8942\n",
      "Epoch 4/4\n",
      "161/161 [==============================] - 635s 4s/step - loss: 0.1305 - accuracy: 0.9481 - val_loss: 0.1644 - val_accuracy: 0.9402\n",
      "Epoch 1/4\n",
      "161/161 [==============================] - 622s 4s/step - loss: 0.1381 - accuracy: 0.9485 - val_loss: 0.2418 - val_accuracy: 0.8903\n",
      "Epoch 2/4\n",
      "161/161 [==============================] - 592s 4s/step - loss: 0.1310 - accuracy: 0.9501 - val_loss: 0.0201 - val_accuracy: 0.9934\n",
      "Epoch 3/4\n",
      "161/161 [==============================] - 599s 4s/step - loss: 0.0934 - accuracy: 0.9636 - val_loss: 0.1148 - val_accuracy: 0.9524\n",
      "Epoch 4/4\n",
      "161/161 [==============================] - 643s 4s/step - loss: 0.0914 - accuracy: 0.9650 - val_loss: 0.0553 - val_accuracy: 0.9828\n",
      "Epoch 1/4\n",
      "161/161 [==============================] - 643s 4s/step - loss: 0.0892 - accuracy: 0.9661 - val_loss: 0.1049 - val_accuracy: 0.9629\n",
      "Epoch 2/4\n",
      "161/161 [==============================] - 668s 4s/step - loss: 0.0864 - accuracy: 0.9681 - val_loss: 0.0519 - val_accuracy: 0.9756\n",
      "Epoch 3/4\n",
      "161/161 [==============================] - 674s 4s/step - loss: 0.0740 - accuracy: 0.9709 - val_loss: 0.0766 - val_accuracy: 0.9751\n",
      "Epoch 4/4\n",
      "161/161 [==============================] - 645s 4s/step - loss: 0.0886 - accuracy: 0.9676 - val_loss: 0.0476 - val_accuracy: 0.9812\n"
     ]
    }
   ],
   "source": [
    "from sklearn.model_selection import KFold\n",
    "\n",
    "input_shape = (64, 64, 3)\n",
    "num_classes = 2\n",
    "n_splits = 5\n",
    "\n",
    "vit_model = vit.vit_b32(\n",
    "    image_size=input_shape[0],\n",
    "    activation='softmax',\n",
    "    pretrained=True,\n",
    "    include_top=False,\n",
    "    pretrained_top=False,\n",
    "    classes=num_classes\n",
    ")\n",
    "\n",
    "inputs = layers.Input(shape=input_shape)\n",
    "x = vit_model(inputs)\n",
    "x = layers.Flatten()(x)\n",
    "outputs = layers.Dense(num_classes, activation='softmax')(x)\n",
    "\n",
    "model = keras.Model(inputs=inputs, outputs=outputs)\n",
    "\n",
    "model.compile( optimizer = keras.optimizers.Adam(learning_rate=1e-4),\n",
    "              loss='categorical_crossentropy',\n",
    "              metrics=['accuracy'])\n",
    "\n",
    "# Split data into training and validation sets\n",
    "kf = KFold(n_splits=n_splits)\n",
    "X = np.concatenate((X_train, X_val))\n",
    "y = np.concatenate((y_train, y_val))\n",
    "for i, (train_index, val_index) in enumerate(kf.split(X)):\n",
    "    X_train, X_val = X[train_index], X[val_index]\n",
    "    y_train, y_val = y[train_index], y[val_index]\n",
    "    \n",
    "    # Train the model\n",
    "    model.fit(X_train, y_train, epochs=4, batch_size=45, validation_data=(X_val, y_val))\n"
   ]
  },
  {
   "cell_type": "code",
   "execution_count": 45,
   "id": "f4de7e31",
   "metadata": {},
   "outputs": [
    {
     "name": "stdout",
     "output_type": "stream",
     "text": [
      "Epoch 1/4\n",
      "166/166 [==============================] - 352s 2s/step - loss: 0.0060 - accuracy: 0.9964 - val_loss: 0.0000e+00 - val_accuracy: 1.0000\n",
      "Epoch 2/4\n",
      "166/166 [==============================] - 307s 2s/step - loss: 0.0000e+00 - accuracy: 1.0000 - val_loss: 0.0000e+00 - val_accuracy: 1.0000\n",
      "Epoch 3/4\n",
      "166/166 [==============================] - 308s 2s/step - loss: 0.0000e+00 - accuracy: 1.0000 - val_loss: 0.0000e+00 - val_accuracy: 1.0000\n",
      "Epoch 4/4\n",
      "166/166 [==============================] - 302s 2s/step - loss: 0.0000e+00 - accuracy: 1.0000 - val_loss: 0.0000e+00 - val_accuracy: 1.0000\n"
     ]
    },
    {
     "data": {
      "text/plain": [
       "<keras.callbacks.History at 0x25429187550>"
      ]
     },
     "execution_count": 45,
     "metadata": {},
     "output_type": "execute_result"
    }
   ],
   "source": [
    "# model.compile(optimizer='adam',\n",
    "#               loss='categorical_crossentropy',\n",
    "#               metrics=['accuracy'])\n",
    "\n",
    "# model.fit(X_train, y_train, epochs=4, batch_size=45, validation_data=(X_val, y_val))\n"
   ]
  },
  {
   "cell_type": "code",
   "execution_count": 37,
   "id": "f5c7503a",
   "metadata": {},
   "outputs": [
    {
     "name": "stdout",
     "output_type": "stream",
     "text": [
      "Epoch 1/4\n",
      "142/142 [==============================] - 73s 424ms/step - loss: 0.0710 - accuracy: 0.9829 - val_loss: 0.0057 - val_accuracy: 1.0000\n",
      "Epoch 2/4\n",
      "142/142 [==============================] - 56s 394ms/step - loss: 0.0063 - accuracy: 1.0000 - val_loss: 0.0019 - val_accuracy: 1.0000\n",
      "Epoch 3/4\n",
      "142/142 [==============================] - 56s 395ms/step - loss: 0.0029 - accuracy: 1.0000 - val_loss: 9.4456e-04 - val_accuracy: 1.0000\n",
      "Epoch 4/4\n",
      "142/142 [==============================] - 57s 403ms/step - loss: 0.0017 - accuracy: 1.0000 - val_loss: 5.7373e-04 - val_accuracy: 1.0000\n"
     ]
    },
    {
     "data": {
      "text/plain": [
       "<keras.callbacks.History at 0x1e725e5f7f0>"
      ]
     },
     "execution_count": 37,
     "metadata": {},
     "output_type": "execute_result"
    }
   ],
   "source": [
    "# # Compile the model\n",
    "# model.compile(\n",
    "#     optimizer = keras.optimizers.Adam(learning_rate=1e-4),\n",
    "#     loss = 'categorical_crossentropy',\n",
    "#     metrics = ['accuracy']\n",
    "# )\n",
    "\n",
    "# model.fit(X_train, y_train, epochs=4, batch_size=45, validation_data=(X_val, y_val))"
   ]
  },
  {
   "cell_type": "code",
   "execution_count": 38,
   "id": "912ab46c",
   "metadata": {},
   "outputs": [],
   "source": [
    "# # Unfreeze some layers of the pre-trained model for fine-tuning\n",
    "# for layer in vit_model.layers[-6:]:\n",
    "#     layer.trainable = True\n",
    "\n",
    "# # Lower the learning rate for fine-tuning\n",
    "# model.compile(\n",
    "#     optimizer = keras.optimizers.Adam(learning_rate=1e-5),\n",
    "#     loss = 'categorical_crossentropy',\n",
    "#     metrics = ['accuracy']\n",
    "# )"
   ]
  },
  {
   "cell_type": "code",
   "execution_count": 39,
   "id": "81152bf6",
   "metadata": {},
   "outputs": [
    {
     "name": "stdout",
     "output_type": "stream",
     "text": [
      "Epoch 1/4\n",
      "142/142 [==============================] - 132s 820ms/step - loss: 5.9428e-05 - accuracy: 1.0000 - val_loss: 9.3616e-07 - val_accuracy: 1.0000\n",
      "Epoch 2/4\n",
      "142/142 [==============================] - 114s 805ms/step - loss: 3.8470e-06 - accuracy: 1.0000 - val_loss: 3.5645e-07 - val_accuracy: 1.0000\n",
      "Epoch 3/4\n",
      "142/142 [==============================] - 120s 845ms/step - loss: 1.9365e-06 - accuracy: 1.0000 - val_loss: 1.8622e-07 - val_accuracy: 1.0000\n",
      "Epoch 4/4\n",
      "142/142 [==============================] - 137s 965ms/step - loss: 1.2433e-06 - accuracy: 1.0000 - val_loss: 1.0613e-07 - val_accuracy: 1.0000\n"
     ]
    },
    {
     "data": {
      "text/plain": [
       "<keras.callbacks.History at 0x1e68c8e3df0>"
      ]
     },
     "execution_count": 39,
     "metadata": {},
     "output_type": "execute_result"
    }
   ],
   "source": [
    "# model.fit(X_train, y_train, epochs=4, batch_size=45, validation_data=(X_val, y_val))"
   ]
  },
  {
   "cell_type": "code",
   "execution_count": 78,
   "id": "39e2d86f",
   "metadata": {},
   "outputs": [
    {
     "name": "stdout",
     "output_type": "stream",
     "text": [
      "50/50 [==============================] - 74s 1s/step - loss: 0.1149 - accuracy: 0.9561\n"
     ]
    },
    {
     "data": {
      "text/plain": [
       "[0.11490090191364288, 0.9560853242874146]"
      ]
     },
     "execution_count": 78,
     "metadata": {},
     "output_type": "execute_result"
    }
   ],
   "source": [
    "model.evaluate(X_test, y_test)"
   ]
  },
  {
   "cell_type": "code",
   "execution_count": 76,
   "id": "21af8d52",
   "metadata": {},
   "outputs": [],
   "source": [
    "model.save(\"vit_model.h5\")"
   ]
  },
  {
   "cell_type": "code",
   "execution_count": 77,
   "id": "d5bc7666",
   "metadata": {},
   "outputs": [
    {
     "name": "stderr",
     "output_type": "stream",
     "text": [
      "WARNING:absl:Found untraced functions such as _update_step_xla, _jit_compiled_convolution_op, MultiHeadDotProductAttention_1_layer_call_fn, MultiHeadDotProductAttention_1_layer_call_and_return_conditional_losses, LayerNorm_0_layer_call_fn while saving (showing 5 of 194). These functions will not be directly callable after loading.\n"
     ]
    },
    {
     "name": "stdout",
     "output_type": "stream",
     "text": [
      "INFO:tensorflow:Assets written to: vit_model\\assets\n"
     ]
    },
    {
     "name": "stderr",
     "output_type": "stream",
     "text": [
      "INFO:tensorflow:Assets written to: vit_model\\assets\n"
     ]
    }
   ],
   "source": [
    "model.save(\"vit_model\")"
   ]
  },
  {
   "cell_type": "code",
   "execution_count": 5,
   "id": "bdee6132",
   "metadata": {},
   "outputs": [
    {
     "name": "stderr",
     "output_type": "stream",
     "text": [
      "C:\\Program Files\\Python310\\lib\\site-packages\\keras\\layers\\core\\lambda_layer.py:324: UserWarning: vit_keras.vit is not loaded, but a Lambda layer uses it. It may cause errors.\n",
      "  function = cls._parse_function_from_config(\n",
      "C:\\Program Files\\Python310\\lib\\site-packages\\keras\\layers\\core\\lambda_layer.py:324: UserWarning: vit_keras.layers is not loaded, but a Lambda layer uses it. It may cause errors.\n",
      "  function = cls._parse_function_from_config(\n"
     ]
    }
   ],
   "source": [
    "from tensorflow.keras.models import load_model\n",
    "\n",
    "model = load_model('vit_model')"
   ]
  },
  {
   "cell_type": "code",
   "execution_count": 18,
   "id": "37495e0f",
   "metadata": {},
   "outputs": [
    {
     "name": "stdout",
     "output_type": "stream",
     "text": [
      "50/50 [==============================] - 11s 214ms/step - loss: 0.0540 - accuracy: 0.9824\n"
     ]
    },
    {
     "data": {
      "text/plain": [
       "[0.05400010198354721, 0.9824341535568237]"
      ]
     },
     "execution_count": 18,
     "metadata": {},
     "output_type": "execute_result"
    }
   ],
   "source": [
    "model.evaluate(X_test, y_test)"
   ]
  },
  {
   "cell_type": "code",
   "execution_count": 19,
   "id": "a6df4f57",
   "metadata": {},
   "outputs": [
    {
     "name": "stdout",
     "output_type": "stream",
     "text": [
      "50/50 [==============================] - 14s 247ms/step\n"
     ]
    },
    {
     "data": {
      "text/plain": [
       "array([[9.9985015e-01, 1.4977525e-04],\n",
       "       [9.8936170e-01, 1.0638288e-02],\n",
       "       [9.9973589e-01, 2.6405777e-04],\n",
       "       ...,\n",
       "       [2.8894518e-03, 9.9711049e-01],\n",
       "       [1.7261476e-03, 9.9827385e-01],\n",
       "       [1.2398371e-04, 9.9987602e-01]], dtype=float32)"
      ]
     },
     "execution_count": 19,
     "metadata": {},
     "output_type": "execute_result"
    }
   ],
   "source": [
    "# Analyze prediction values\n",
    "\n",
    "\n",
    "\n",
    "predicted = model.predict(X_test)\n",
    "predicted[:, :]"
   ]
  },
  {
   "cell_type": "code",
   "execution_count": 20,
   "id": "ea4defe9",
   "metadata": {},
   "outputs": [
    {
     "name": "stdout",
     "output_type": "stream",
     "text": [
      "50/50 [==============================] - 12s 240ms/step\n",
      "              precision    recall  f1-score   support\n",
      "\n",
      "           0       0.98      0.99      0.98       797\n",
      "           1       0.99      0.97      0.98       797\n",
      "\n",
      "    accuracy                           0.98      1594\n",
      "   macro avg       0.98      0.98      0.98      1594\n",
      "weighted avg       0.98      0.98      0.98      1594\n",
      "\n"
     ]
    }
   ],
   "source": [
    "# Import confusion matrix and classification report from scikit-learn\n",
    "from sklearn.metrics import confusion_matrix, classification_report\n",
    "Y_prediction = model.predict(X_test)\n",
    "# Convert predictions classes to one hot vectors \n",
    "Y_pred_classes = np.argmax(predicted,axis = 1) \n",
    "# compute the confusion matrix\n",
    "confusion_mtx = confusion_matrix(target[indexes_test], Y_pred_classes) \n",
    "print(classification_report(target[indexes_test], Y_pred_classes))"
   ]
  },
  {
   "cell_type": "code",
   "execution_count": 21,
   "id": "ddefce67",
   "metadata": {},
   "outputs": [
    {
     "name": "stdout",
     "output_type": "stream",
     "text": [
      "[[789   8]\n",
      " [ 20 777]]\n"
     ]
    }
   ],
   "source": [
    "print(confusion_mtx)"
   ]
  },
  {
   "cell_type": "code",
   "execution_count": 24,
   "id": "6ce55d87",
   "metadata": {},
   "outputs": [
    {
     "data": {
      "image/png": "[encoded data removed]",
      "text/plain": [
       "<Figure size 640x480 with 2 Axes>"
      ]
     },
     "metadata": {},
     "output_type": "display_data"
    }
   ],
   "source": [
    "sns.heatmap(confusion_mtx/797, annot=True, fmt='.2%');"
   ]
  },
  {
   "cell_type": "code",
   "execution_count": 25,
   "id": "ca3c53b4",
   "metadata": {},
   "outputs": [
    {
     "name": "stdout",
     "output_type": "stream",
     "text": [
      "789 8 20 777\n",
      "0.9899623588456713\n"
     ]
    }
   ],
   "source": [
    "# Assume y_true and y_pred are the true and predicted labels for the test data, respectively\n",
    "tn, fp, fn, tp = confusion_matrix(target[indexes_test], Y_pred_classes).ravel()\n",
    "\n",
    "print(tn, fp, fn, tp)\n",
    "specificity = tn / (tn + fp)\n",
    "print(specificity)"
   ]
  },
  {
   "cell_type": "code",
   "execution_count": 27,
   "id": "48002904",
   "metadata": {},
   "outputs": [
    {
     "data": {
      "image/png": "[encoded data removed]",
      "text/plain": [
       "<Figure size 640x480 with 1 Axes>"
      ]
     },
     "metadata": {},
     "output_type": "display_data"
    }
   ],
   "source": [
    "from sklearn import metrics\n",
    "\n",
    "fpr, tpr, thresholds = metrics.roc_curve(np.argmax(y_test, axis =1), np.argmax(predicted, axis =1), pos_label=1)\n",
    "roc_auc = metrics.auc(fpr, tpr)\n",
    "\n",
    "lw = 2\n",
    "plt.figure()\n",
    "plt.plot([0, 1], [0, 1], color='navy', lw=lw, linestyle='--', alpha=0.15)\n",
    "plt.plot(fpr, tpr, lw=lw, label=f'ROC curve (area = {roc_auc: 0.2f})')\n",
    "\n",
    "plt.xlabel('False Positive Rate')\n",
    "plt.ylabel('True Positive Rate')\n",
    "plt.title(f'Receiver Operating Characteristic')\n",
    "plt.legend(loc=\"lower right\")\n",
    "plt.show()"
   ]
  },
  {
   "cell_type": "code",
   "execution_count": 28,
   "id": "0754edc4",
   "metadata": {},
   "outputs": [
    {
     "data": {
      "image/png": "[encoded data removed]",
      "text/plain": [
       "<Figure size 640x480 with 1 Axes>"
      ]
     },
     "metadata": {},
     "output_type": "display_data"
    }
   ],
   "source": [
    "from sklearn.metrics import precision_recall_curve\n",
    "import matplotlib.pyplot as plt\n",
    "\n",
    "# Assume y_true and y_score are the true labels and predicted scores for the test data, respectively\n",
    "precision, recall, threshold = precision_recall_curve(target[indexes_test], Y_pred_classes)\n",
    "\n",
    "# Plot the PR curve\n",
    "plt.plot(recall, precision)\n",
    "plt.xlabel('Recall')\n",
    "plt.ylabel('Precision')\n",
    "plt.title('PR Curve') \n",
    "plt.show()"
   ]
  },
  {
   "cell_type": "code",
   "execution_count": null,
   "id": "4cf68867",
   "metadata": {},
   "outputs": [],
   "source": []
  }
 ],
 "metadata": {
  "kernelspec": {
   "display_name": "Python 3 (ipykernel)",
   "language": "python",
   "name": "python3"
  },
  "language_info": {
   "codemirror_mode": {
    "name": "ipython",
    "version": 3
   },
   "file_extension": ".py",
   "mimetype": "text/x-python",
   "name": "python",
   "nbconvert_exporter": "python",
   "pygments_lexer": "ipython3",
   "version": "3.10.8"
  }
 },
 "nbformat": 4,
 "nbformat_minor": 5
}
